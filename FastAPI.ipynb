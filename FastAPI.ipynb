{
  "nbformat": 4,
  "nbformat_minor": 0,
  "metadata": {
    "colab": {
      "name": "FastAPI.ipynb",
      "provenance": [],
      "collapsed_sections": [],
      "toc_visible": true
    },
    "kernelspec": {
      "name": "python3",
      "display_name": "Python 3"
    },
    "language_info": {
      "name": "python"
    }
  },
  "cells": [
    {
      "cell_type": "markdown",
      "source": [
        "#FastAPI \n",
        "FastAPI is a modern, fast (high-performance), web framework for building APIs with Python 3.6+ based on standard Python type hints.\n",
        "\n",
        "The key features are:\n",
        "\n",
        "* Fast: Very high performance, on par with NodeJS and Go (thanks to Starlette and Pydantic). One of the fastest Python frameworks available.\n",
        "* Fast to code: Increase the speed to develop features by about 200% to 300%. *\n",
        "* Fewer bugs: Reduce about 40% of human (developer) induced errors. *\n",
        "* Intuitive: Great editor support. Completion everywhere. Less time debugging.\n",
        "* Easy: Designed to be easy to use and learn. Less time reading docs.\n",
        "* Short: Minimize code duplication. Multiple features from each parameter declaration. Fewer bugs.\n",
        "* Robust: Get production-ready code. With automatic interactive documentation.\n",
        "* Standards-based: Based on (and fully compatible with) the open standards for APIs: OpenAPI (previously known as Swagger) and JSON Schema."
      ],
      "metadata": {
        "id": "aKDckN3GyZDR"
      }
    },
    {
      "cell_type": "markdown",
      "source": [
        "## Asyncio\n",
        "Antes de empezar con FastAPI hay que explicar como funcionan programas asincronicos.\n",
        "\n",
        "```python\n",
        "import asyncio\n",
        "\n",
        "async def fetch_data():\n",
        "  print('start fetching')\n",
        "  await asyncio.sleep(1)\n",
        "  print('done_fetching')\n",
        "  return {\"data\": 1}\n",
        "\n",
        "async def print_numbers():\n",
        "  for i in range(10):\n",
        "    print(i)\n",
        "    await asyncio.sleep(0.25)\n",
        "\n",
        "async def main():\n",
        "  task1 = asyncio.create_task(fetch_data())\n",
        "  task1 = asyncio.create_task(print_numbers())\n",
        "\n",
        "  value = await task1\n",
        "  print(value)\n",
        "\n",
        "asyncio.run(main())\n",
        "```\n",
        "\n",
        "Aqui definimos dos funciones asincronicas con `async`, y creamos tasks con estas funciones. \n",
        "Si no aplicamos `await` con los tasks, nomas va a terminar el programa mientras los tasks corren en el fondo.\n",
        "Si nada mas aplicamos `await` con el primer task, va a terminar mientras corra el segundo, y ya no vamos a ver como termina el segundo task. Para ver todos los prints, tenemos que esperar a los dos tasks.\n",
        "Si nada mas aplicamos `await` con el segundo task, no vamos a ser capaces de imprimir/leer lo que retorna el primer task.\n",
        "\n",
        "Lo que pasa aqui es que siempre se ejecuta nada mas un task, pero cuando estan en espera, podemos avanzar con el otro task.\n",
        "\n",
        "Para nuestra API podria significar que podemos procesar un request, en el que requerimos datos de una base de datos externa, mientras estamos esperando a la base de datos, podemos saltar a otro request y ya empezar a procesarlo. \n",
        "\n",
        "Correr procesos asincronicos es diferente a correr procesos en paralelo.\n",
        "\n",
        "Correr procesos sincronicos significa procesarlo de manera secuencial, mientras en procesos asincronicos podemos saltar de un proceso a otro.\n",
        "\n",
        "En este video, pueden encontrar una explicacion mucho mas a detalle, de lo que es correr procesos asincronicos.\n",
        "\n",
        "https://www.youtube.com/watch?v=t5Bo1Je9EmE"
      ],
      "metadata": {
        "id": "9W64RGzFQjkq"
      }
    },
    {
      "cell_type": "markdown",
      "source": [
        "## Basic FastAPI without Pydantic\n",
        "\n",
        "\n",
        "\n"
      ],
      "metadata": {
        "id": "q3ht5wvlpCUn"
      }
    },
    {
      "cell_type": "markdown",
      "source": [
        "### Installation\n",
        "\n",
        "La forma preferida de la instalacion de FastAPI requiere usar pip. Tambien necesitamos instalar uvicorn para poder montar el servidor web.\n",
        "\n",
        "```\n",
        "pip install fastapi\n",
        "pip install \"uvicorn[standard]\"\n",
        "```\n",
        "\n"
      ],
      "metadata": {
        "id": "qBNwZ0H8qC5s"
      }
    },
    {
      "cell_type": "markdown",
      "source": [
        "### First steps\n",
        "\n",
        "Para poder armar un ejemplo basico de FastAPI, lo unico que necesitamos son los imports, luego crear la instancia de FastAPI y finalmente definir la ruta de API con una funcion.\n",
        "La ruta de la API se crea a traves de un `path operation decorator`. La operacion se define como funcion de la instancia `app`, `app.get()`. Dentro de aquella funcion definimos el path, en este caso `\"/\"`, `app.get(\"/\")`.\n",
        "La `path operation function` define como procesar los datos de entrada, y como regresarlos. Podemos definir la funcion como asincronica con el keyword `async` o sincronica.\n",
        "\n",
        "main.py\n",
        "```python\n",
        "from fastapi import FastAPI\n",
        "import names\n",
        "\n",
        "app = FastAPI()\n",
        "\n",
        "# Path operation decorator\n",
        "@app.get(\"/\")\n",
        "# Path operation function\n",
        "async def root():\n",
        "    return {\"message\": \"Hello World\"}\n",
        "\n",
        "@app.get(\"/random_name\")\n",
        "async def root():\n",
        "    return {\"message\": f\"Hello {names.get_first_name()}\"}\n",
        "\n",
        "```\n",
        "\n",
        "Esto es todo lo que necesitamos hacer, ahora nomas nos falta iniciar el servidor web con uvicorn, apuntando a nuestro archivo `main.py` o cualquier otro deseado, y a la instancia `app`. El keyword `reload` permite ver cambios a la API de forma instantanea, sin tener que volver a inicia el servidor web.\n",
        "Start server:\n",
        "```\n",
        "uvicorn main:app --reload\n",
        "```\n",
        "\n",
        "Ahora podemos explorar nuestra Api con los siguientes enlaces:\n",
        "https://127.0.0.1:8000\n",
        "\n",
        "http://127.0.0.1:8000/docs\n",
        "\n",
        "http://127.0.0.1:8000/redoc"
      ],
      "metadata": {
        "id": "iY5BYj8tqWF_"
      }
    },
    {
      "cell_type": "markdown",
      "source": [
        "### Path Parameters\n",
        "\n",
        "Una funcionalidad muy importante de API's en general son los `Path Parameters`.\n",
        "Podemos definir algunas partes nuestro path como variables, lo cual nos permite usar los parametros en nuestra funcion como una variable normal de entrada. En este ejemplo lo unico que hacemos es regresar la variable que nos pasa el usuario en la respuesta.\n",
        "\n",
        "Checa como funciona en  https://127.0.0.1:8000/songs/4\n",
        "```python\n",
        "from fastapi import FastAPI\n",
        "\n",
        "app = FastAPI()\n",
        "\n",
        "\n",
        "song_db = [\"evermore\", \"willow\", \"champagne problems\", \"gold rush\",\n",
        "           \"'tis the damn season'\", \"tolerate it\", \"no body no crime\",\n",
        "           \"happiness\", \"dorothea\", \"coney island\",\n",
        "           \"ivy\", \"cowboy like me\", \"long story short\"]\n",
        "\n",
        "\n",
        "@app.get(\"/name/{name}\")\n",
        "async def get_name(name):\n",
        "    return {\"message\": f\"Hello {name}\"}\n",
        "\n",
        "\n",
        "@app.get(\"/songs/{song_id}\")\n",
        "async def get_song(song_id):\n",
        "    return {\"song_id\": song_id, \"song_name\": song_db[song_id]}\n",
        "\n",
        "    \n",
        "```\n",
        "\n",
        "\n"
      ],
      "metadata": {
        "id": "MaL1mk8bMq5N"
      }
    },
    {
      "cell_type": "markdown",
      "source": [
        ""
      ],
      "metadata": {
        "id": "beyc9YWvM8ei"
      }
    },
    {
      "cell_type": "markdown",
      "source": [
        "### Path parameters with types\n",
        "\n",
        "A veces queremos limitar nuestros parametros a un cierto tipo de datos, FastAPI nos permite a hacer esto de manera muy simple (con la ayuda de Pydantic) a traves del `typing`. Podemos definir el tipo de una variable y a partir de ahora, nuestra API no va a permitir otro tipo cuando la llamamos.\n",
        "\n",
        "```python\n",
        "from fastapi import FastAPI\n",
        "\n",
        "app = FastAPI()\n",
        "\n",
        "@app.get(\"/name/{name}\")\n",
        "async def get_name(name: str):\n",
        "    return {\"message\": f\"Hello {name}\"}\n",
        "\n",
        "\n",
        "song_db = [\"evermore\", \"willow\", \"champagne problems\", \"gold rush\",\n",
        "           \"'tis the damn season'\", \"tolerate it\", \"no body no crime\",\n",
        "           \"happiness\", \"dorothea\", \"coney island\",\n",
        "           \"ivy\", \"cowboy like me\", \"long story short\"]\n",
        "\n",
        "\n",
        "@app.get(\"/songs/{song_id}\")\n",
        "async def get_song(song_id: int):\n",
        "    return {\"song_id\": song_id, \"song_name\": song_db[song_id]}\n",
        "```\n",
        "Funciona:\n",
        "http://127.0.0.1:8000/songs/3\n",
        "\n",
        "http://127.0.0.1:8000/name/daniel\n",
        "\n",
        "No funciona:\n",
        "http://127.0.0.1:8000/songs/daniel\n",
        "\n",
        "Tambien funciona:\n",
        "http://127.0.0.1:8000/name/3\n",
        "\n",
        "En este caso, FastAPI hace parsing automatico del numero y lo convierte a un string. Podemos forzar FastAPI a rechazar numericos con `StrictStr``\n",
        "```python\n",
        "from pydantic import StrictStr\n",
        "@app.get(\"/name/{name}\")\n",
        "async def get_name(name: StrictStr):\n",
        "    return {\"message\": f\"Hello {name}\"}\n",
        "\n",
        "```\n",
        "\n",
        "\n",
        "Para ajustar nuestros parametros podemos usar un Path object. Con este Path object le podemos dar por ejemplo un titulo, o definir un rango para los tipos numericos.\n",
        "Porque los parametros Path siempre son requeridos, porque forman parte del path, no es posible darle un valor default.\n",
        "\n",
        "```python\n",
        "from fastapi import Path\n",
        "\n",
        "@app.get(\"/songs/{song_id}\")\n",
        "async def get_song(song_id: int = Path(\n",
        "  ..., title=\"The ID of the item to get\", le=12)):\n",
        "    return {\"song_id\": song_id, \"song_name\": song_db[song_id]}\n",
        "\n",
        "    \n",
        "```\n",
        "Tambien FastAPI ya nos regresa informacion por que no funciona el ejemplo, y tambien menciona este requerimiento en la documentacion de nuestra API:\n",
        "http://127.0.0.1:8000/docs\n",
        "\n"
      ],
      "metadata": {
        "id": "brkjpTZ2M-MY"
      }
    },
    {
      "cell_type": "markdown",
      "source": [
        "### Order matters\n",
        "\n",
        "Cuando creamos rutas importa mucho el orden de ejecuccion, en este ejemplo tenemos una ruta hardcoded (evermore) y despues la ruta con el parametro. Si ahora llamamos http://127.0.0.1:8000/songs/evermore nos va a regresar esta cancion. Pero si le damos vuelta a la orden, nos fallaria la misma llamada, porque la ruta requiere un int y evermore no es int.\n",
        "\n",
        "```python\n",
        "from fastapi import FastAPI\n",
        "\n",
        "app = FastAPI()\n",
        "\n",
        "song_db = [\"evermore\", \"willow\", \"champagne problems\", \"gold rush\",\n",
        "           \"'tis the damn season'\", \"tolerate it\", \"no body no crime\",\n",
        "           \"happiness\", \"dorothea\", \"coney island\",\n",
        "           \"ivy\", \"cowboy like me\", \"long story short\"]\n",
        "\n",
        "\n",
        "@app.get(\"/songs/evermore\")\n",
        "async def get_evermore():\n",
        "    return {\"song_id\": \"0\",\n",
        "            \"song_name\": \"evermore\"}\n",
        "\n",
        "\n",
        "@app.get(\"/songs/{song_id}\")\n",
        "async def get_song(song_id: int):\n",
        "    return {\"song_id\": song_id, \"song_name\": song_db[song_id]}\n",
        "\n",
        "```\n",
        "\n"
      ],
      "metadata": {
        "id": "_i6FupgMNfwf"
      }
    },
    {
      "cell_type": "markdown",
      "source": [
        "### Predefined values\n",
        "\n",
        "Podemos usar enums para predefinir los valores que aceptamos en una ruta. Ahora nuestra ruta nada mas acepta los valores que definimos en el Enum, y en otros casos nos tira un error. Tambien lo vamos a poder observar en la documentacion.\n",
        "\n",
        "Funciona: http://127.0.0.1:8000/albums/evermore\n",
        "\n",
        "No funciona: http://127.0.0.1:8000/albums/anything\n",
        "\n",
        "http://127.0.0.1:8000/docs\n",
        "\n",
        "\n",
        "```python\n",
        "from enum import Enum\n",
        "\n",
        "from fastapi import FastAPI\n",
        "\n",
        "\n",
        "class AlbumName(str, Enum):\n",
        "    folklore = \"folklore\"\n",
        "    evermore = \"evermore\"\n",
        "    red = \"red\"\n",
        "\n",
        "\n",
        "app = FastAPI()\n",
        "\n",
        "\n",
        "@app.get(\"/album/{album_name}\")\n",
        "async def get_album(album_name: AlbumName):\n",
        "    if album_name == AlbumName.folklore:\n",
        "        return {\"album_name\": album_name, \"year\": 2020}\n",
        "    if album_name.value == \"evermore\":\n",
        "        return {\"album_name\": album_name, \"year\": 2020}\n",
        "    return {\"album_name\": album_name, \"year\": 2021}\n",
        "```\n",
        "\n"
      ],
      "metadata": {
        "id": "O46h7T33OhXc"
      }
    },
    {
      "cell_type": "markdown",
      "source": [
        "### Query Parameters\n",
        "\n",
        "Otro tipo de parametro se llama `query parameters`. Los podemos definir al final de una query con `?`, por ejemplo http://127.0.0.1:8000/items/?skip=0.\n",
        "Para pasar varios query parameters podemos concatenarlos con `&`, e.g.\n",
        "http://127.0.0.1:8000/items/?skip=0&limit=10\n",
        "\n",
        "```python\n",
        "\n",
        "from fastapi import FastAPI\n",
        "\n",
        "app = FastAPI()\n",
        "\n",
        "song_db = [\"evermore\", \"willow\", \"champagne problems\", \"gold rush\",\n",
        "           \"'tis the damn season'\", \"tolerate it\", \"no body no crime\",\n",
        "           \"happiness\", \"dorothea\", \"coney island\",\n",
        "           \"ivy\", \"cowboy like me\", \"long story short\"]\n",
        "\n",
        "@app.get(\"/song_list\")\n",
        "async def get_song_list(skip: int = 0, limit: int = 10):\n",
        "    return song_db[skip: skip + limit]\n",
        "````\n",
        "\n",
        "Parecido al Path Object podemos usar un Query object para definir mas opciones para los query parameters. Los Query Objects pueden ser opcionales, para hacerlos obligatorio, no hay que pasar un valor default, or usar un ellipsis (...). En el ejemplo de abajo usamos un elllipsis, haciendo el primer parametro obligatorio.\n",
        "\n",
        "```python\n",
        "@app.get(\"/song_list\")\n",
        "async def get_song_list(skip: int = Query(..., le=12), limit: int = Query(10, le=12)):\n",
        "    return song_db[skip: skip + limit]\n",
        "```"
      ],
      "metadata": {
        "id": "FI_Ggx6kLILU"
      }
    },
    {
      "cell_type": "markdown",
      "source": [
        "## Pydantic\n",
        "\n",
        "Pydantic es un modulo de Python que nos ayuda a hacer parsing y validacion de datos. Funciona muy bien con JSON, lo que luego vamos a usar para mandar datos mas extensivos a nuestra API.\n",
        "Con Pydantic podemos definir clases, que evaluan JSON o otros formatos y los guarda en un objetivo nativo a Python.\n",
        "### Installation\n",
        "\n",
        "Pero primero hay que instalar `pydantic`\n"
      ],
      "metadata": {
        "id": "Qlu1mcck09yc"
      }
    },
    {
      "cell_type": "code",
      "source": [
        "%pip install pydantic"
      ],
      "metadata": {
        "colab": {
          "base_uri": "https://localhost:8080/"
        },
        "id": "MEy9OXqs2O1U",
        "outputId": "32267368-34a4-4857-80bc-7b6d1e2b89e0"
      },
      "execution_count": 2,
      "outputs": [
        {
          "output_type": "stream",
          "name": "stdout",
          "text": [
            "Collecting pydantic\n",
            "  Downloading pydantic-1.9.0-cp37-cp37m-manylinux_2_17_x86_64.manylinux2014_x86_64.whl (10.9 MB)\n",
            "\u001b[K     |████████████████████████████████| 10.9 MB 5.1 MB/s \n",
            "\u001b[?25hRequirement already satisfied: typing-extensions>=3.7.4.3 in /usr/local/lib/python3.7/dist-packages (from pydantic) (4.2.0)\n",
            "Installing collected packages: pydantic\n",
            "Successfully installed pydantic-1.9.0\n"
          ]
        }
      ]
    },
    {
      "cell_type": "markdown",
      "source": [
        "### Basic Pydantic\n",
        "Con Pydantic podemos crear clases, que defien varios campos. Si no pasamos un valor default, el campo es obligatorio. Podemos crear una instancia de la clase con JSON/dicts o tambien con los campos o una combinacion."
      ],
      "metadata": {
        "id": "d6M4A25mB1D9"
      }
    },
    {
      "cell_type": "markdown",
      "source": [
        ""
      ],
      "metadata": {
        "id": "tfdQGVoMCzGy"
      }
    },
    {
      "cell_type": "code",
      "source": [
        "from typing import List, Optional\n",
        "from pydantic import BaseModel\n",
        "from datetime import datetime\n",
        "\n",
        "class User(BaseModel):\n",
        "    id: int\n",
        "    name = 'John Doe'\n",
        "    signup_ts: datetime = None\n",
        "    friends: List[int] = []\n",
        "\n",
        "\n",
        "external_data = {\n",
        "    'id': '123',\n",
        "    'signup_ts': '2019-06-01 12:22',\n",
        "    'friends': [1, 2, '3'],\n",
        "}\n",
        "user = User(**external_data)\n",
        "print(user.id)\n",
        "print(user)\n",
        "external_data.pop(\"friends\")\n",
        "user = User(**external_data, name=\"Mike Pence\", friends=[])\n",
        "print(user)\n"
      ],
      "metadata": {
        "colab": {
          "base_uri": "https://localhost:8080/"
        },
        "id": "z-HVL8jf2Ctm",
        "outputId": "03a39c84-14ce-46bf-82a2-85deb7b296cd"
      },
      "execution_count": 11,
      "outputs": [
        {
          "output_type": "stream",
          "name": "stdout",
          "text": [
            "123\n",
            "id=123 signup_ts=datetime.datetime(2019, 6, 1, 12, 22) friends=[1, 2, 3] name='John Doe'\n",
            "id=123 signup_ts=datetime.datetime(2019, 6, 1, 12, 22) friends=[] name='Mike Pence'\n"
          ]
        }
      ]
    },
    {
      "cell_type": "markdown",
      "source": [
        "### Constraints and validators\n",
        "Tambien podemos usar constraints y validators para definir bien nuestros requerimientos para los campos."
      ],
      "metadata": {
        "id": "LUh4P9LPCQ9o"
      }
    },
    {
      "cell_type": "code",
      "source": [
        "from pydantic import (\n",
        "    BaseModel,\n",
        "    NegativeInt,\n",
        "    PositiveInt,\n",
        "    conint,\n",
        "    conlist,\n",
        "    constr\n",
        ")\n",
        "class Model(BaseModel):\n",
        "    # minimum length of 2 and maximum length of 10\n",
        "    short_str: constr(min_length=2, max_length=10)\n",
        "    # regex\n",
        "    regex_str: constr(regex=r'^apple (pie|tart|sandwich)$')\n",
        "    # remove whitespace from string\n",
        "    strip_str: constr(strip_whitespace=True)\n",
        "\n",
        "    # value must be greater than 1000 and less than 1024\n",
        "    big_int: conint(gt=1000, lt=1024)\n",
        "    \n",
        "    # value is multiple of 5\n",
        "    mod_int: conint(multiple_of=5)\n",
        "    \n",
        "    # must be a positive integer\n",
        "    pos_int: PositiveInt\n",
        "    \n",
        "    # must be a negative integer\n",
        "    neg_int: NegativeInt\n",
        "\n",
        "    # list of integers that contains 1 to 4 items\n",
        "    short_list: conlist(int, min_items=1, max_items=4)"
      ],
      "metadata": {
        "id": "3AO_ikmnDX2C"
      },
      "execution_count": null,
      "outputs": []
    },
    {
      "cell_type": "code",
      "source": [
        "from pydantic import validator\n",
        "from typing import List\n",
        "class User(BaseModel):\n",
        "    id: conint(ge=10)\n",
        "    name: constr(min_length=5, strip_whitespace=True) = 'John Doe'\n",
        "    signup_ts: datetime = None\n",
        "    friends: List[int] = []\n",
        "\n",
        "    @validator('id')\n",
        "    def id_must_be_4_digits(cls, v):\n",
        "        if len(str(v)) != 4:\n",
        "            raise ValueError('must be 4 digits')\n",
        "        return v\n",
        "\n",
        "external_data = {\n",
        "  \n",
        "    'id': '1234',\n",
        "    'signup_ts': '2019-06-01 12:22',\n",
        "    'friends': [1, 2, '3'],\n",
        "    'name': 'Jordan Davis'\n",
        "  \n",
        "\n",
        "}\n"
      ],
      "metadata": {
        "colab": {
          "base_uri": "https://localhost:8080/"
        },
        "id": "eXFSYLvO3qyR",
        "outputId": "19f04abf-da67-4b20-a70a-2e46c09744d1"
      },
      "execution_count": 65,
      "outputs": [
        {
          "output_type": "stream",
          "name": "stdout",
          "text": [
            "id=1234 name='Andre Bajorat' signup_ts=datetime.datetime(2019, 6, 1, 12, 22) friends=[1, 2, 3]\n"
          ]
        }
      ]
    },
    {
      "cell_type": "markdown",
      "source": [
        "### Nested models\n",
        "Tambien podemos usar nested models, es decir definir una clase y usarla en otra clase."
      ],
      "metadata": {
        "id": "PLmLxtPSDPpc"
      }
    },
    {
      "cell_type": "code",
      "source": [
        "class UserList(BaseModel):\n",
        "    users: List[User]\n",
        "    description: str = \"All the users\"\n",
        "\n",
        "external_data = {\n",
        "    'users':[\n",
        "    {\n",
        "      'id': '1234',\n",
        "      'signup_ts': '2019-06-01 12:22',\n",
        "      'friends': [1, 2, '3'],\n",
        "      'name': ' Jordan Davis '\n",
        "    },\n",
        "    {\n",
        "      'id': '1234',\n",
        "      'signup_ts': '2019-06-01 12:22',\n",
        "      'friends': [1, 2, '3'],\n",
        "      'name': 'Jimmy G'\n",
        "    }\n",
        "  ]\n",
        "}\n",
        "users = UserList(**external_data)\n",
        "print(users.users)\n",
        "\n",
        "        "
      ],
      "metadata": {
        "colab": {
          "base_uri": "https://localhost:8080/"
        },
        "id": "StgIWUpk-Gcy",
        "outputId": "4f3c01f4-7ad2-4c3c-8a1d-51e48a04def6"
      },
      "execution_count": 72,
      "outputs": [
        {
          "output_type": "stream",
          "name": "stdout",
          "text": [
            "[User(id=1234, name='Jordan Davis', signup_ts=datetime.datetime(2019, 6, 1, 12, 22), friends=[1, 2, 3]), User(id=1234, name='Jimmy G', signup_ts=datetime.datetime(2019, 6, 1, 12, 22), friends=[1, 2, 3])]\n"
          ]
        }
      ]
    },
    {
      "cell_type": "markdown",
      "source": [
        "## More FastAPI\n",
        "\n",
        "### Request Body\n",
        "Podemos usar pydantic para crear clases que definen el input que esperamos en una llamada API. Cuando queremos mandar mas datos, ya no es buena idea usar path y query parametros. En vez de hacer esto, podemos mandar un JSON en el body del request.\n",
        "Este body puedeser parseado conforme con una clase de Pydantic. Para hacer esto, nada mas hay que definir la clase y usar aquella clase como tipo del parametro para la path operation function.\n",
        "\n",
        "\n",
        "```python\n",
        "\n",
        "from typing import Optional\n",
        "\n",
        "from fastapi import FastAPI\n",
        "from pydantic import BaseModel\n",
        "app = FastAPI()\n",
        "\n",
        "\n",
        "class Album(BaseModel):\n",
        "    name: str\n",
        "    description: str = None   \n",
        "    price: confloat(gt=0) = 'No description given'\n",
        "    discount:float = None\n",
        "\n",
        "\n",
        "\n",
        "@app.post(\"/albums/\")\n",
        "async def create_album(album: Album):\n",
        "    album_dict = album.dict()\n",
        "    ## save album\n",
        "    return album_dict\n",
        "```\n",
        "\n",
        "Tambien podemos transformar los datos antes de regresarlos.\n",
        "\n",
        "```python\n",
        "@app.post(\"/albums/\")\n",
        "async def create_album(album: Album):\n",
        "    album_dict = album.dict()\n",
        "    new_price = (album.price - album.discount * album.price * 0.01)\n",
        "    album_dict.update({\"new_price\": new_price})\n",
        "    return album_dict\n",
        "```\n",
        "\n"
      ],
      "metadata": {
        "id": "WlZ53mY_uYJg"
      }
    },
    {
      "cell_type": "markdown",
      "source": [
        "### Response Models\n",
        "\n",
        "No solo podemos parsear los datos de entrada, sino tambien los datos que mandamos de regreso. Para esto se usa el parametro `response_model` en el decorator.\n",
        "\n",
        "```python\n",
        "from typing import Optional\n",
        "\n",
        "from fastapi import FastAPI\n",
        "from pydantic import BaseModel\n",
        "\n",
        "app = FastAPI()\n",
        "\n",
        "class Album(BaseModel):\n",
        "    name: str\n",
        "    description: str = None   \n",
        "    price: confloat(gt=0) = 'No description given'\n",
        "    discount:float = 0\n",
        "\n",
        "class AlbumOut(BaseModel):\n",
        "    name: str\n",
        "    description: str = None  \n",
        "    new_price: float = None \n",
        "\n",
        "@app.post(\"/albums/\", response_model=AlbumOut)\n",
        "async def create_album(album: Album):\n",
        "    album_dict = album.dict()\n",
        "    new_price = (album.price - album.discount * album.price * 0.01)\n",
        "    album_dict.update({\"new_price\": new_price})\n",
        "    return album_dict\n",
        "```\n",
        "\n"
      ],
      "metadata": {
        "id": "NaZl4EOw43Fs"
      }
    },
    {
      "cell_type": "markdown",
      "source": [
        "### Authentication\n",
        "No deberiamos exponer nuestra API publicamente. Obviamente la seguridad de API's es un tema que podria llenar muchas sesiones, por lo cual nada mas vamos a ver lo mas basico. Este ejemplo no se puede considerar una opcion muy segura, pero es mejor que nada.\n",
        "\n",
        "Lo que hacemos aqui es usar un authorization token en el header, el cual verificamos en la funcion de verify_token. El token es estatico, unhashed y se usa uno solo para todos los usuarios. Cada una de estas caracteristicas es suficiente para considerar la seguridad de nuestra API insuficiente.\n",
        "\n",
        "En el header de nuestros requests tenemos que definir lo siguiente para poder acceder a nuestra API.\n",
        "\n",
        "`\"Authorization\": \"BestPossiblePassword\"`\n",
        "\n",
        "```python\n",
        "from fastapi import FastAPI, HTTPException, Depends, Request\n",
        "\n",
        "\n",
        "@app.get(\"/check\", dependencies=[Depends(verify_token)])\n",
        "async def home():\n",
        "    return {\"detail\": \"Welcome home\"}\n",
        "\n",
        "def verify_token(req: Request):\n",
        "    token = req.headers.get(\"Authorization\", None)\n",
        "    valid = token == 'BestPossiblePassword'\n",
        "    if not valid:\n",
        "        raise HTTPException(\n",
        "            status_code=401,\n",
        "            detail=\"Unauthorized\"\n",
        "        )\n",
        "    return True\n",
        "\n",
        "```\n"
      ],
      "metadata": {
        "id": "LyoHUKBc8gi-"
      }
    },
    {
      "cell_type": "markdown",
      "source": [
        "https://towardsdatascience.com/how-to-deploy-a-machine-learning-model-with-fastapi-docker-and-github-actions-13374cbd638a\n",
        "https://kinsta.com/blog/generate-ssh-key/\n",
        "\n",
        "https://fastapi.tiangolo.com/tutorial/\n",
        "\n",
        "https://betterprogramming.pub/the-beginners-guide-to-pydantic-ba33b26cde89\n",
        "\n",
        "https://www.youtube.com/watch?v=t5Bo1Je9EmE"
      ],
      "metadata": {
        "id": "ugZ_GqE4vtAW"
      }
    }
  ]
}